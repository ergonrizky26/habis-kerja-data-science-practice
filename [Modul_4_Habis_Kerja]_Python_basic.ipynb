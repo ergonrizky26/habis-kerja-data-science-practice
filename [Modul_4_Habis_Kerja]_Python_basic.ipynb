{
  "nbformat": 4,
  "nbformat_minor": 0,
  "metadata": {
    "colab": {
      "provenance": [],
      "authorship_tag": "ABX9TyOna1btB4EZbP1EnPmWCUtp",
      "include_colab_link": true
    },
    "kernelspec": {
      "name": "python3",
      "display_name": "Python 3"
    },
    "language_info": {
      "name": "python"
    }
  },
  "cells": [
    {
      "cell_type": "markdown",
      "metadata": {
        "id": "view-in-github",
        "colab_type": "text"
      },
      "source": [
        "<a href=\"https://colab.research.google.com/github/ergonrizky26/habis-kerja-data-science-practice/blob/DS001/%5BModul_4_Habis_Kerja%5D_Python_basic.ipynb\" target=\"_parent\"><img src=\"https://colab.research.google.com/assets/colab-badge.svg\" alt=\"Open In Colab\"/></a>"
      ]
    },
    {
      "cell_type": "markdown",
      "source": [
        "# Selamat Datang di Notebook Modul 4 Habis Kerja!\n",
        "\n",
        "Berikut ini adalah tutorial Notebook mengenai dasar-dasar Python untuk Data Scientist yang berisi :\n",
        "\n",
        "***Basic Components***\n",
        "\n",
        "\n",
        "1.   Variabel dan Tipe Data\n",
        "2.   Artmatika dan Logika\n",
        "3.   Function\n",
        "\n",
        "***Packages***\n",
        "1. Pandas dan Numpy\n",
        "2. Matplotlib\n",
        "3. Scikit-learn\n",
        "\n",
        "\n",
        "\n"
      ],
      "metadata": {
        "id": "vMzQjtK7Bc0E"
      }
    },
    {
      "cell_type": "markdown",
      "source": [
        "# Basic Components"
      ],
      "metadata": {
        "id": "4ZuZvvs1AyKD"
      }
    },
    {
      "cell_type": "markdown",
      "source": [
        "## 1. Variable dan Tipe Data"
      ],
      "metadata": {
        "id": "gguKQ9llCjzZ"
      }
    },
    {
      "cell_type": "code",
      "source": [
        "# Assign data ke variable\n",
        "x = 1995\n",
        "y = \"Hello World\"\n",
        "z = 3.5"
      ],
      "metadata": {
        "id": "P-8Ja4XnCpH0"
      },
      "execution_count": 1,
      "outputs": []
    },
    {
      "cell_type": "code",
      "source": [
        "# Print variable\n",
        "print(x)\n",
        "print(y, z)"
      ],
      "metadata": {
        "colab": {
          "base_uri": "https://localhost:8080/"
        },
        "id": "By3up925DHRL",
        "outputId": "fddab9fd-4ad8-476f-9ac9-a80cbeed6b47"
      },
      "execution_count": 2,
      "outputs": [
        {
          "output_type": "stream",
          "name": "stdout",
          "text": [
            "1995\n",
            "Hello World 3.5\n"
          ]
        }
      ]
    },
    {
      "cell_type": "code",
      "source": [
        "# Penamaan variable tidak bisa didahului angka\n",
        "# 1 = 1990"
      ],
      "metadata": {
        "id": "qy3p3g0WDL9d"
      },
      "execution_count": 3,
      "outputs": []
    },
    {
      "cell_type": "code",
      "source": [
        "# Penamaan variable tidak bisa dengan spasi\n",
        "# x y = 1"
      ],
      "metadata": {
        "id": "-5-W6SQPDTBG"
      },
      "execution_count": 4,
      "outputs": []
    },
    {
      "cell_type": "code",
      "source": [
        "# Penamaan dua variable atau lebih, bisa dalam satu baris\n",
        "x, y, m, n = 1900, \"Hello World!\", 'a', 1.5"
      ],
      "metadata": {
        "id": "3n_x4KvVDgyo"
      },
      "execution_count": 5,
      "outputs": []
    },
    {
      "cell_type": "code",
      "source": [
        "# String\n",
        "nama = \"Hello World!\"\n",
        "angka = \"3.5\"\n",
        "nol = '0'\n",
        "hari = \"jum'at\"\n",
        "rata_rata = 'rata\"'"
      ],
      "metadata": {
        "id": "pF_zLI1zD2w6"
      },
      "execution_count": 6,
      "outputs": []
    },
    {
      "cell_type": "code",
      "source": [
        "print(nol)"
      ],
      "metadata": {
        "colab": {
          "base_uri": "https://localhost:8080/"
        },
        "id": "gaNKB6BvEABi",
        "outputId": "33613a3b-2b5f-472b-b4a6-5928226a675d"
      },
      "execution_count": 7,
      "outputs": [
        {
          "output_type": "stream",
          "name": "stdout",
          "text": [
            "0\n"
          ]
        }
      ]
    },
    {
      "cell_type": "code",
      "source": [
        "print(hari)"
      ],
      "metadata": {
        "colab": {
          "base_uri": "https://localhost:8080/"
        },
        "id": "5w6D0adrEEsh",
        "outputId": "7b5bbd03-8994-4bf6-d5e9-7cbea0c57a35"
      },
      "execution_count": 8,
      "outputs": [
        {
          "output_type": "stream",
          "name": "stdout",
          "text": [
            "jum'at\n"
          ]
        }
      ]
    },
    {
      "cell_type": "code",
      "source": [
        "print(rata_rata)"
      ],
      "metadata": {
        "colab": {
          "base_uri": "https://localhost:8080/"
        },
        "id": "IMzFYsyjEXTf",
        "outputId": "b9a22fe7-296d-492f-c542-3f2efbae2a49"
      },
      "execution_count": 9,
      "outputs": [
        {
          "output_type": "stream",
          "name": "stdout",
          "text": [
            "rata\"\n"
          ]
        }
      ]
    },
    {
      "cell_type": "code",
      "source": [
        "# Integer\n",
        "satu = 1"
      ],
      "metadata": {
        "id": "T9obJvoTEYjh"
      },
      "execution_count": 10,
      "outputs": []
    },
    {
      "cell_type": "code",
      "source": [
        "# Float\n",
        "satu_koma_lima = 1.5"
      ],
      "metadata": {
        "id": "YpUU7wtNEcS5"
      },
      "execution_count": 11,
      "outputs": []
    },
    {
      "cell_type": "code",
      "source": [
        "# Float\n",
        "satu = 1."
      ],
      "metadata": {
        "id": "iGvaAz0kEhcv"
      },
      "execution_count": 12,
      "outputs": []
    },
    {
      "cell_type": "code",
      "source": [
        "print(satu)"
      ],
      "metadata": {
        "colab": {
          "base_uri": "https://localhost:8080/"
        },
        "id": "wMYC7RoOEmpd",
        "outputId": "7e81908f-cf41-4f0a-ad5e-7b83daf78ced"
      },
      "execution_count": 13,
      "outputs": [
        {
          "output_type": "stream",
          "name": "stdout",
          "text": [
            "1.0\n"
          ]
        }
      ]
    },
    {
      "cell_type": "code",
      "source": [
        "# Boolean\n",
        "betul = False\n",
        "komparasi = satu == 1"
      ],
      "metadata": {
        "id": "UDZDP2swEqI5"
      },
      "execution_count": 14,
      "outputs": []
    },
    {
      "cell_type": "code",
      "source": [
        "satu == 1"
      ],
      "metadata": {
        "colab": {
          "base_uri": "https://localhost:8080/"
        },
        "id": "RBybNKotEygv",
        "outputId": "7108ecf8-63ba-4028-bfd3-7983078c062c"
      },
      "execution_count": 15,
      "outputs": [
        {
          "output_type": "execute_result",
          "data": {
            "text/plain": [
              "True"
            ]
          },
          "metadata": {},
          "execution_count": 15
        }
      ]
    },
    {
      "cell_type": "code",
      "source": [
        "# List\n",
        "biodata = [\"Mike\", 165, 35.4]"
      ],
      "metadata": {
        "id": "pDAK_9yiEzdE"
      },
      "execution_count": 16,
      "outputs": []
    },
    {
      "cell_type": "code",
      "source": [
        "biodata[2]"
      ],
      "metadata": {
        "colab": {
          "base_uri": "https://localhost:8080/"
        },
        "id": "8bnCErgjFLHZ",
        "outputId": "915fdfe2-1022-4fbb-de1b-da88695bd63a"
      },
      "execution_count": 17,
      "outputs": [
        {
          "output_type": "execute_result",
          "data": {
            "text/plain": [
              "35.4"
            ]
          },
          "metadata": {},
          "execution_count": 17
        }
      ]
    },
    {
      "cell_type": "code",
      "source": [
        "biodata[2] = 40"
      ],
      "metadata": {
        "id": "qQ5IJOPJFM6J"
      },
      "execution_count": 18,
      "outputs": []
    },
    {
      "cell_type": "code",
      "source": [
        "print(biodata)"
      ],
      "metadata": {
        "colab": {
          "base_uri": "https://localhost:8080/"
        },
        "id": "pQUG_DFGFRN1",
        "outputId": "546686f0-71b8-41f1-8f2e-6603f9623410"
      },
      "execution_count": 19,
      "outputs": [
        {
          "output_type": "stream",
          "name": "stdout",
          "text": [
            "['Mike', 165, 40]\n"
          ]
        }
      ]
    },
    {
      "cell_type": "code",
      "source": [
        "# Tuple\n",
        "biodata_tuple = (\"Mike\", 160, 40)"
      ],
      "metadata": {
        "id": "7PDePXnHFS--"
      },
      "execution_count": 20,
      "outputs": []
    },
    {
      "cell_type": "code",
      "source": [
        "# Tuple bersifat Imutable\n",
        "biodata_tuple[2] = 42"
      ],
      "metadata": {
        "colab": {
          "base_uri": "https://localhost:8080/",
          "height": 193
        },
        "id": "n2F_RsbRFcev",
        "outputId": "a4a86af9-681e-411f-e6cb-52e9f1dce587"
      },
      "execution_count": 22,
      "outputs": [
        {
          "output_type": "error",
          "ename": "TypeError",
          "evalue": "ignored",
          "traceback": [
            "\u001b[0;31m---------------------------------------------------------------------------\u001b[0m",
            "\u001b[0;31mTypeError\u001b[0m                                 Traceback (most recent call last)",
            "\u001b[0;32m<ipython-input-22-74d5cf6626af>\u001b[0m in \u001b[0;36m<cell line: 2>\u001b[0;34m()\u001b[0m\n\u001b[1;32m      1\u001b[0m \u001b[0;31m# Tuple bersifat Imutable\u001b[0m\u001b[0;34m\u001b[0m\u001b[0;34m\u001b[0m\u001b[0m\n\u001b[0;32m----> 2\u001b[0;31m \u001b[0mbiodata_tuple\u001b[0m\u001b[0;34m[\u001b[0m\u001b[0;36m2\u001b[0m\u001b[0;34m]\u001b[0m \u001b[0;34m=\u001b[0m \u001b[0;36m42\u001b[0m\u001b[0;34m\u001b[0m\u001b[0;34m\u001b[0m\u001b[0m\n\u001b[0m",
            "\u001b[0;31mTypeError\u001b[0m: 'tuple' object does not support item assignment"
          ]
        }
      ]
    },
    {
      "cell_type": "code",
      "source": [
        "# Set\n",
        "biodata_set = {\"Mike\", 165, 60}"
      ],
      "metadata": {
        "id": "MdggXlyAFftT"
      },
      "execution_count": 23,
      "outputs": []
    },
    {
      "cell_type": "code",
      "source": [
        "biodata_set"
      ],
      "metadata": {
        "colab": {
          "base_uri": "https://localhost:8080/"
        },
        "id": "xkvxvrQvGFaW",
        "outputId": "199b3af9-c91c-4935-dd38-d3ec95a3635c"
      },
      "execution_count": 24,
      "outputs": [
        {
          "output_type": "execute_result",
          "data": {
            "text/plain": [
              "{165, 60, 'Mike'}"
            ]
          },
          "metadata": {},
          "execution_count": 24
        }
      ]
    },
    {
      "cell_type": "code",
      "source": [
        "# Dictionary\n",
        "biodata_dictionary = {\"Nama\" : \"Mike\",\n",
        "                      \"Tinggi\" : 160,\n",
        "                      \"Berat\" : 65}"
      ],
      "metadata": {
        "id": "CmmxHvegGIR9"
      },
      "execution_count": 25,
      "outputs": []
    },
    {
      "cell_type": "code",
      "source": [
        "biodata_dictionary.keys()"
      ],
      "metadata": {
        "colab": {
          "base_uri": "https://localhost:8080/"
        },
        "id": "r5iiuj05GZkj",
        "outputId": "46d36c84-65e0-4af1-d4f2-f0282245d283"
      },
      "execution_count": 26,
      "outputs": [
        {
          "output_type": "execute_result",
          "data": {
            "text/plain": [
              "dict_keys(['Nama', 'Tinggi', 'Berat'])"
            ]
          },
          "metadata": {},
          "execution_count": 26
        }
      ]
    },
    {
      "cell_type": "code",
      "source": [
        "biodata_dictionary.values()"
      ],
      "metadata": {
        "colab": {
          "base_uri": "https://localhost:8080/"
        },
        "id": "FBvyh7sDGbph",
        "outputId": "f58b6ee5-196f-4e8c-c516-57ded63b367d"
      },
      "execution_count": 27,
      "outputs": [
        {
          "output_type": "execute_result",
          "data": {
            "text/plain": [
              "dict_values(['Mike', 160, 65])"
            ]
          },
          "metadata": {},
          "execution_count": 27
        }
      ]
    },
    {
      "cell_type": "code",
      "source": [
        "biodata_dictionary[\"Nama\"]"
      ],
      "metadata": {
        "colab": {
          "base_uri": "https://localhost:8080/",
          "height": 35
        },
        "id": "HwKAINJWGelM",
        "outputId": "53975098-8588-498a-cf51-06727a287d50"
      },
      "execution_count": 28,
      "outputs": [
        {
          "output_type": "execute_result",
          "data": {
            "text/plain": [
              "'Mike'"
            ],
            "application/vnd.google.colaboratory.intrinsic+json": {
              "type": "string"
            }
          },
          "metadata": {},
          "execution_count": 28
        }
      ]
    },
    {
      "cell_type": "code",
      "source": [
        "biodata_dictionary[\"Nama\"] = \"Miki\""
      ],
      "metadata": {
        "id": "A9DpeYhUGrrr"
      },
      "execution_count": 29,
      "outputs": []
    },
    {
      "cell_type": "code",
      "source": [
        "biodata_dictionary[\"Nama\"]"
      ],
      "metadata": {
        "colab": {
          "base_uri": "https://localhost:8080/",
          "height": 35
        },
        "id": "QeujLXSMGwe_",
        "outputId": "c1183b7a-dd44-4510-d289-2d789b39ee89"
      },
      "execution_count": 30,
      "outputs": [
        {
          "output_type": "execute_result",
          "data": {
            "text/plain": [
              "'Miki'"
            ],
            "application/vnd.google.colaboratory.intrinsic+json": {
              "type": "string"
            }
          },
          "metadata": {},
          "execution_count": 30
        }
      ]
    },
    {
      "cell_type": "code",
      "source": [
        "biodata_dictionary"
      ],
      "metadata": {
        "colab": {
          "base_uri": "https://localhost:8080/"
        },
        "id": "T8QxFyR1G0Sn",
        "outputId": "b1b52a62-f35a-4022-ed98-80902569ba5d"
      },
      "execution_count": 31,
      "outputs": [
        {
          "output_type": "execute_result",
          "data": {
            "text/plain": [
              "{'Nama': 'Miki', 'Tinggi': 160, 'Berat': 65}"
            ]
          },
          "metadata": {},
          "execution_count": 31
        }
      ]
    },
    {
      "cell_type": "markdown",
      "source": [
        "## 2. Aritmatika dan Logika"
      ],
      "metadata": {
        "id": "P9Lew69EG3Cg"
      }
    },
    {
      "cell_type": "code",
      "source": [
        "# KaBaTaKu\n",
        "print(1990 + 1.5)\n",
        "print(\"Hello\" + \"World\")"
      ],
      "metadata": {
        "colab": {
          "base_uri": "https://localhost:8080/"
        },
        "id": "cz1hcHy3S9Yx",
        "outputId": "5f4f3869-b640-4fa8-9a0a-0e76fef814e6"
      },
      "execution_count": 32,
      "outputs": [
        {
          "output_type": "stream",
          "name": "stdout",
          "text": [
            "1991.5\n",
            "HelloWorld\n"
          ]
        }
      ]
    },
    {
      "cell_type": "code",
      "source": [
        "y = 160 - 75 * 15 + 100\n",
        "print(y)"
      ],
      "metadata": {
        "colab": {
          "base_uri": "https://localhost:8080/"
        },
        "id": "iqsg4Ur3TF6d",
        "outputId": "7d2ec6d0-3126-4826-98bd-2558c736ff7b"
      },
      "execution_count": 33,
      "outputs": [
        {
          "output_type": "stream",
          "name": "stdout",
          "text": [
            "-865\n"
          ]
        }
      ]
    },
    {
      "cell_type": "code",
      "source": [
        "# Pangkat\n",
        "p = 2**3\n",
        "print(p)"
      ],
      "metadata": {
        "colab": {
          "base_uri": "https://localhost:8080/"
        },
        "id": "hK4Q9zYqTLVV",
        "outputId": "d2b0d586-97b7-418d-a8b9-c2b2da6439b6"
      },
      "execution_count": 34,
      "outputs": [
        {
          "output_type": "stream",
          "name": "stdout",
          "text": [
            "8\n"
          ]
        }
      ]
    },
    {
      "cell_type": "code",
      "source": [
        "# Modulo\n",
        "print(10 % 3)\n",
        "print(2 % 2)"
      ],
      "metadata": {
        "colab": {
          "base_uri": "https://localhost:8080/"
        },
        "id": "HA3QgJnETPkx",
        "outputId": "afd9e1d3-d604-4705-cc12-df482b6a7e2a"
      },
      "execution_count": 35,
      "outputs": [
        {
          "output_type": "stream",
          "name": "stdout",
          "text": [
            "1\n",
            "0\n"
          ]
        }
      ]
    },
    {
      "cell_type": "code",
      "source": [
        "print(10 / 3)\n",
        "\n",
        "# Floor (hasil bagi pembulatan ke bawah)\n",
        "print(10 // 3)"
      ],
      "metadata": {
        "colab": {
          "base_uri": "https://localhost:8080/"
        },
        "id": "aOwBj71bTgK5",
        "outputId": "d3e83665-3e9e-4e7e-b028-2cd99ebb5a33"
      },
      "execution_count": 36,
      "outputs": [
        {
          "output_type": "stream",
          "name": "stdout",
          "text": [
            "3.3333333333333335\n",
            "3\n"
          ]
        }
      ]
    },
    {
      "cell_type": "code",
      "source": [
        "# IF\n",
        "nilai = 80\n",
        "if nilai >= 75:\n",
        "  print(\"Kamu Lulus!\")"
      ],
      "metadata": {
        "colab": {
          "base_uri": "https://localhost:8080/"
        },
        "id": "zblBj6XvTnLm",
        "outputId": "f4ee6c7e-241c-40d5-a5f5-243d79e81e6e"
      },
      "execution_count": 37,
      "outputs": [
        {
          "output_type": "stream",
          "name": "stdout",
          "text": [
            "Kamu Lulus!\n"
          ]
        }
      ]
    },
    {
      "cell_type": "code",
      "source": [
        "# IF ELSE\n",
        "nilai = 74\n",
        "if nilai >= 75:\n",
        "  print(\"Kamu Lulus!\")\n",
        "else:\n",
        "  print(\"Kamu Tidak Lulus!\")"
      ],
      "metadata": {
        "colab": {
          "base_uri": "https://localhost:8080/"
        },
        "id": "Hvkq5_BnT-Da",
        "outputId": "c8ea949c-9ba3-4939-d495-9f057a6e9112"
      },
      "execution_count": 38,
      "outputs": [
        {
          "output_type": "stream",
          "name": "stdout",
          "text": [
            "Kamu Tidak Lulus!\n"
          ]
        }
      ]
    },
    {
      "cell_type": "code",
      "source": [
        "# FOR LOOP\n",
        "my_list = [1, 20, 300]\n",
        "for i in my_list:\n",
        "  print(i)"
      ],
      "metadata": {
        "colab": {
          "base_uri": "https://localhost:8080/"
        },
        "id": "ifErt3XkUH20",
        "outputId": "0664442e-9b83-4eca-c1a6-044817be4692"
      },
      "execution_count": 39,
      "outputs": [
        {
          "output_type": "stream",
          "name": "stdout",
          "text": [
            "1\n",
            "20\n",
            "300\n"
          ]
        }
      ]
    },
    {
      "cell_type": "code",
      "source": [
        "a = 2\n",
        "b = 3\n",
        "un = a\n",
        "for i in range(0, 10):\n",
        "  print(i)\n",
        "  un = un + b\n",
        "print(un)"
      ],
      "metadata": {
        "colab": {
          "base_uri": "https://localhost:8080/"
        },
        "id": "wXwwWhkBUXl0",
        "outputId": "7d897541-a79d-4113-833d-9362d9a17a89"
      },
      "execution_count": 40,
      "outputs": [
        {
          "output_type": "stream",
          "name": "stdout",
          "text": [
            "0\n",
            "1\n",
            "2\n",
            "3\n",
            "4\n",
            "5\n",
            "6\n",
            "7\n",
            "8\n",
            "9\n",
            "32\n"
          ]
        }
      ]
    },
    {
      "cell_type": "code",
      "source": [
        "# WHILE LOOP\n",
        "cnt = 0\n",
        "while cnt < 6:\n",
        "  cnt += 1\n",
        "  print(cnt)"
      ],
      "metadata": {
        "colab": {
          "base_uri": "https://localhost:8080/"
        },
        "id": "3b_UJARsUuQQ",
        "outputId": "77593cc3-19ae-443e-cdb6-a6b17fd86f37"
      },
      "execution_count": 41,
      "outputs": [
        {
          "output_type": "stream",
          "name": "stdout",
          "text": [
            "1\n",
            "2\n",
            "3\n",
            "4\n",
            "5\n",
            "6\n"
          ]
        }
      ]
    },
    {
      "cell_type": "code",
      "source": [
        "a = 2\n",
        "b = 3\n",
        "un = a\n",
        "while (un <= 300):\n",
        "  un = un + b\n",
        "print(un)"
      ],
      "metadata": {
        "colab": {
          "base_uri": "https://localhost:8080/"
        },
        "id": "K-t5DHRXU-6-",
        "outputId": "1110bb6f-521c-4ade-8cdc-ea7509f5e55a"
      },
      "execution_count": 42,
      "outputs": [
        {
          "output_type": "stream",
          "name": "stdout",
          "text": [
            "302\n"
          ]
        }
      ]
    },
    {
      "cell_type": "markdown",
      "source": [
        "## 3. Function"
      ],
      "metadata": {
        "id": "fNuQW0wm8Btv"
      }
    },
    {
      "cell_type": "code",
      "source": [
        "# Tanpa menggunakan function\n",
        "a = 2\n",
        "b = 3\n",
        "a_kuadrat = a ** 2\n",
        "b_kuadrat = b ** 2\n",
        "\n",
        "print(a_kuadrat, b_kuadrat)"
      ],
      "metadata": {
        "colab": {
          "base_uri": "https://localhost:8080/"
        },
        "id": "JeCdQ6QMBrei",
        "outputId": "a33e3c8c-86ca-4aef-d572-e888475c9718"
      },
      "execution_count": 43,
      "outputs": [
        {
          "output_type": "stream",
          "name": "stdout",
          "text": [
            "4 9\n"
          ]
        }
      ]
    },
    {
      "cell_type": "code",
      "source": [
        "# Menggunakan function\n",
        "def kuadrat(angka):\n",
        "  return angka ** 2\n",
        "\n",
        "print(kuadrat(a))\n",
        "print(kuadrat(b))"
      ],
      "metadata": {
        "colab": {
          "base_uri": "https://localhost:8080/"
        },
        "id": "yin31IBGB7TC",
        "outputId": "aa37c143-8e33-46d6-b066-f5b411b4d65e"
      },
      "execution_count": 44,
      "outputs": [
        {
          "output_type": "stream",
          "name": "stdout",
          "text": [
            "4\n",
            "9\n"
          ]
        }
      ]
    },
    {
      "cell_type": "code",
      "source": [
        "def pangkat_angka(angka, pangkat):\n",
        "  return angka ** pangkat\n",
        "\n",
        "a = 3\n",
        "b = 4\n",
        "a_pangkat = pangkat_angka(a, 2)\n",
        "b_pangkat = pangkat_angka(b, 3)\n",
        "\n",
        "print(a_pangkat, b_pangkat)"
      ],
      "metadata": {
        "colab": {
          "base_uri": "https://localhost:8080/"
        },
        "id": "Kyh2N9q7CPRh",
        "outputId": "8f5abfc1-5ceb-4d5b-8fd1-78f96d7cf518"
      },
      "execution_count": 45,
      "outputs": [
        {
          "output_type": "stream",
          "name": "stdout",
          "text": [
            "9 64\n"
          ]
        }
      ]
    },
    {
      "cell_type": "code",
      "source": [
        "def pangkat_angka(angka, pangkat, tambah):\n",
        "  return angka ** pangkat + tambah\n",
        "\n",
        "a = 3\n",
        "b = 4\n",
        "a_pangkat = pangkat_angka(a, 2, 10)\n",
        "b_pangkat = pangkat_angka(b, 3, 10)\n",
        "\n",
        "print(a_pangkat, b_pangkat)"
      ],
      "metadata": {
        "colab": {
          "base_uri": "https://localhost:8080/"
        },
        "id": "twTKsPIYCysp",
        "outputId": "ff6da641-2c6c-488f-9368-04bca30a9c6a"
      },
      "execution_count": 46,
      "outputs": [
        {
          "output_type": "stream",
          "name": "stdout",
          "text": [
            "19 74\n"
          ]
        }
      ]
    },
    {
      "cell_type": "code",
      "source": [
        "# Build in function\n",
        "list_saya = [1, 5, 4, 17, 11]\n",
        "minimum = min(list_saya)\n",
        "maximum = max(list_saya)\n",
        "\n",
        "print(minimum, maximum)\n",
        "print(list_saya)\n",
        "sorted(list_saya)"
      ],
      "metadata": {
        "colab": {
          "base_uri": "https://localhost:8080/"
        },
        "id": "psECPnaSC_qS",
        "outputId": "117f6f5c-72f7-4d11-d5dc-12f7f79858cc"
      },
      "execution_count": 47,
      "outputs": [
        {
          "output_type": "stream",
          "name": "stdout",
          "text": [
            "1 17\n",
            "[1, 5, 4, 17, 11]\n"
          ]
        },
        {
          "output_type": "execute_result",
          "data": {
            "text/plain": [
              "[1, 4, 5, 11, 17]"
            ]
          },
          "metadata": {},
          "execution_count": 47
        }
      ]
    },
    {
      "cell_type": "code",
      "source": [
        "# Map function\n",
        "# Define list\n",
        "nilai = [98, 57, 75]\n",
        "\n",
        "# Apply \"kuadrat\" function to \"nilai\" list\n",
        "print(list(map(kuadrat, nilai)))"
      ],
      "metadata": {
        "colab": {
          "base_uri": "https://localhost:8080/"
        },
        "id": "n7pFUUyhDQ7Q",
        "outputId": "85e2326c-4cac-4ba0-fc26-90b68586564e"
      },
      "execution_count": 48,
      "outputs": [
        {
          "output_type": "stream",
          "name": "stdout",
          "text": [
            "[9604, 3249, 5625]\n"
          ]
        }
      ]
    },
    {
      "cell_type": "code",
      "source": [
        "# Define list\n",
        "biodata = ['mike', 'tomy', 'ben']\n",
        "\n",
        "# Apply \"list\" function to \"biodata\" list\n",
        "print(list(map(list, biodata)))"
      ],
      "metadata": {
        "colab": {
          "base_uri": "https://localhost:8080/"
        },
        "id": "6sBsNJRRDq7H",
        "outputId": "924831bd-09b4-4139-999f-de4789b24189"
      },
      "execution_count": 49,
      "outputs": [
        {
          "output_type": "stream",
          "name": "stdout",
          "text": [
            "[['m', 'i', 'k', 'e'], ['t', 'o', 'm', 'y'], ['b', 'e', 'n']]\n"
          ]
        }
      ]
    },
    {
      "cell_type": "code",
      "source": [
        "# Lambda Function\n",
        "# Define list\n",
        "nilai = [98, 57, 75]\n",
        "\n",
        "# Apply \"kuadrat\" function to \"nilai\" list\n",
        "print(list(map(kuadrat, nilai)))\n",
        "print(list(map(lambda x: x**2, nilai)))"
      ],
      "metadata": {
        "colab": {
          "base_uri": "https://localhost:8080/"
        },
        "id": "GXfH_aqIEFfM",
        "outputId": "1f026009-a003-4e92-c386-4f9f7a1859dd"
      },
      "execution_count": 50,
      "outputs": [
        {
          "output_type": "stream",
          "name": "stdout",
          "text": [
            "[9604, 3249, 5625]\n",
            "[9604, 3249, 5625]\n"
          ]
        }
      ]
    },
    {
      "cell_type": "code",
      "source": [],
      "metadata": {
        "id": "Fp7wdGX2Ed5j"
      },
      "execution_count": null,
      "outputs": []
    }
  ]
}