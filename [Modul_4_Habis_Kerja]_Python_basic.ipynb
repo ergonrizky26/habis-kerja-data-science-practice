{
  "nbformat": 4,
  "nbformat_minor": 0,
  "metadata": {
    "colab": {
      "provenance": [],
      "authorship_tag": "ABX9TyMyUoDCHaaV00MFBEQoPBbU",
      "include_colab_link": true
    },
    "kernelspec": {
      "name": "python3",
      "display_name": "Python 3"
    },
    "language_info": {
      "name": "python"
    }
  },
  "cells": [
    {
      "cell_type": "markdown",
      "metadata": {
        "id": "view-in-github",
        "colab_type": "text"
      },
      "source": [
        "<a href=\"https://colab.research.google.com/github/ergonrizky26/habis-kerja-data-science-practice/blob/DS001/%5BModul_4_Habis_Kerja%5D_Python_basic.ipynb\" target=\"_parent\"><img src=\"https://colab.research.google.com/assets/colab-badge.svg\" alt=\"Open In Colab\"/></a>"
      ]
    },
    {
      "cell_type": "markdown",
      "source": [
        "# Selamat Datang di Notebook Modul 4 Habis Kerja!\n",
        "\n",
        "Berikut ini adalah tutorial Notebook mengenai dasar-dasar Python untuk Data Scientist yang berisi :\n",
        "\n",
        "***Basic Components***\n",
        "\n",
        "\n",
        "1.   Variabel dan Tipe Data\n",
        "2.   Artmatika dan Logika\n",
        "3.   Function\n",
        "\n",
        "***Packages***\n",
        "1. Pandas dan Numpy\n",
        "2. Matplotlib\n",
        "3. Scikit-learn\n",
        "\n",
        "\n",
        "\n"
      ],
      "metadata": {
        "id": "vMzQjtK7Bc0E"
      }
    },
    {
      "cell_type": "markdown",
      "source": [
        "# Basic Components"
      ],
      "metadata": {
        "id": "4ZuZvvs1AyKD"
      }
    },
    {
      "cell_type": "markdown",
      "source": [
        "## 1. Variable dan Tipe Data"
      ],
      "metadata": {
        "id": "gguKQ9llCjzZ"
      }
    },
    {
      "cell_type": "code",
      "source": [
        "# Assign data ke variable\n",
        "x = 1995\n",
        "y = \"Hello World\"\n",
        "z = 3.5"
      ],
      "metadata": {
        "id": "P-8Ja4XnCpH0"
      },
      "execution_count": 1,
      "outputs": []
    },
    {
      "cell_type": "code",
      "source": [
        "# Print variable\n",
        "print(x)\n",
        "print(y, z)"
      ],
      "metadata": {
        "colab": {
          "base_uri": "https://localhost:8080/"
        },
        "id": "By3up925DHRL",
        "outputId": "23fe50e0-af7f-4c08-f2ee-d8577d580398"
      },
      "execution_count": 2,
      "outputs": [
        {
          "output_type": "stream",
          "name": "stdout",
          "text": [
            "1995\n",
            "Hello World 3.5\n"
          ]
        }
      ]
    },
    {
      "cell_type": "code",
      "source": [
        "# Penamaan variable tidak bisa didahului angka\n",
        "# 1 = 1990"
      ],
      "metadata": {
        "id": "qy3p3g0WDL9d"
      },
      "execution_count": 4,
      "outputs": []
    },
    {
      "cell_type": "code",
      "source": [
        "# Penamaan variable tidak bisa dengan spasi\n",
        "# x y = 1"
      ],
      "metadata": {
        "id": "-5-W6SQPDTBG"
      },
      "execution_count": 6,
      "outputs": []
    },
    {
      "cell_type": "code",
      "source": [
        "# Penamaan dua variable atau lebih, bisa dalam satu baris\n",
        "x, y, m, n = 1900, \"Hello World!\", 'a', 1.5"
      ],
      "metadata": {
        "id": "3n_x4KvVDgyo"
      },
      "execution_count": 7,
      "outputs": []
    },
    {
      "cell_type": "code",
      "source": [
        "# String\n",
        "nama = \"Hello World!\"\n",
        "angka = \"3.5\"\n",
        "nol = '0'\n",
        "hari = \"jum'at\"\n",
        "rata_rata = 'rata\"'"
      ],
      "metadata": {
        "id": "pF_zLI1zD2w6"
      },
      "execution_count": 10,
      "outputs": []
    },
    {
      "cell_type": "code",
      "source": [
        "print(nol)"
      ],
      "metadata": {
        "colab": {
          "base_uri": "https://localhost:8080/"
        },
        "id": "gaNKB6BvEABi",
        "outputId": "a3eec778-b798-4df8-d74f-813b5e3a753e"
      },
      "execution_count": 11,
      "outputs": [
        {
          "output_type": "stream",
          "name": "stdout",
          "text": [
            "0\n"
          ]
        }
      ]
    },
    {
      "cell_type": "code",
      "source": [
        "print(hari)"
      ],
      "metadata": {
        "colab": {
          "base_uri": "https://localhost:8080/"
        },
        "id": "5w6D0adrEEsh",
        "outputId": "75f52a41-04a2-4a6c-bfb8-89fbc862d4b8"
      },
      "execution_count": 12,
      "outputs": [
        {
          "output_type": "stream",
          "name": "stdout",
          "text": [
            "jum'at\n"
          ]
        }
      ]
    },
    {
      "cell_type": "code",
      "source": [
        "print(rata_rata)"
      ],
      "metadata": {
        "colab": {
          "base_uri": "https://localhost:8080/"
        },
        "id": "IMzFYsyjEXTf",
        "outputId": "915432ca-8299-405a-f7ca-02dfb315f674"
      },
      "execution_count": 13,
      "outputs": [
        {
          "output_type": "stream",
          "name": "stdout",
          "text": [
            "rata\"\n"
          ]
        }
      ]
    },
    {
      "cell_type": "code",
      "source": [
        "# Integer\n",
        "satu = 1"
      ],
      "metadata": {
        "id": "T9obJvoTEYjh"
      },
      "execution_count": 14,
      "outputs": []
    },
    {
      "cell_type": "code",
      "source": [
        "# Float\n",
        "satu_koma_lima = 1.5"
      ],
      "metadata": {
        "id": "YpUU7wtNEcS5"
      },
      "execution_count": 15,
      "outputs": []
    },
    {
      "cell_type": "code",
      "source": [
        "# Float\n",
        "satu = 1."
      ],
      "metadata": {
        "id": "iGvaAz0kEhcv"
      },
      "execution_count": 17,
      "outputs": []
    },
    {
      "cell_type": "code",
      "source": [
        "print(satu)"
      ],
      "metadata": {
        "colab": {
          "base_uri": "https://localhost:8080/"
        },
        "id": "wMYC7RoOEmpd",
        "outputId": "4503d32c-7edf-44b7-ede7-2eef8533f98c"
      },
      "execution_count": 18,
      "outputs": [
        {
          "output_type": "stream",
          "name": "stdout",
          "text": [
            "1.0\n"
          ]
        }
      ]
    },
    {
      "cell_type": "code",
      "source": [
        "# Boolean\n",
        "betul = False\n",
        "komparasi = satu == 1"
      ],
      "metadata": {
        "id": "UDZDP2swEqI5"
      },
      "execution_count": 23,
      "outputs": []
    },
    {
      "cell_type": "code",
      "source": [
        "satu == 1"
      ],
      "metadata": {
        "colab": {
          "base_uri": "https://localhost:8080/"
        },
        "id": "RBybNKotEygv",
        "outputId": "2ae29364-ba72-4dcd-ab0d-8c1a6edeba0c"
      },
      "execution_count": 20,
      "outputs": [
        {
          "output_type": "execute_result",
          "data": {
            "text/plain": [
              "True"
            ]
          },
          "metadata": {},
          "execution_count": 20
        }
      ]
    },
    {
      "cell_type": "code",
      "source": [
        "# List\n",
        "biodata = [\"Mike\", 165, 35.4]"
      ],
      "metadata": {
        "id": "pDAK_9yiEzdE"
      },
      "execution_count": 24,
      "outputs": []
    },
    {
      "cell_type": "code",
      "source": [
        "biodata[2]"
      ],
      "metadata": {
        "colab": {
          "base_uri": "https://localhost:8080/"
        },
        "id": "8bnCErgjFLHZ",
        "outputId": "be375798-651a-4ab9-a5b0-ee3ef38fb4e8"
      },
      "execution_count": 25,
      "outputs": [
        {
          "output_type": "execute_result",
          "data": {
            "text/plain": [
              "35.4"
            ]
          },
          "metadata": {},
          "execution_count": 25
        }
      ]
    },
    {
      "cell_type": "code",
      "source": [
        "biodata[2] = 40"
      ],
      "metadata": {
        "id": "qQ5IJOPJFM6J"
      },
      "execution_count": 26,
      "outputs": []
    },
    {
      "cell_type": "code",
      "source": [
        "print(biodata)"
      ],
      "metadata": {
        "colab": {
          "base_uri": "https://localhost:8080/"
        },
        "id": "pQUG_DFGFRN1",
        "outputId": "cac58ac0-65af-49e3-b72b-f205cf96116e"
      },
      "execution_count": 27,
      "outputs": [
        {
          "output_type": "stream",
          "name": "stdout",
          "text": [
            "['Mike', 165, 40]\n"
          ]
        }
      ]
    },
    {
      "cell_type": "code",
      "source": [
        "# Tuple\n",
        "biodata_tuple = (\"Mike\", 160, 40)"
      ],
      "metadata": {
        "id": "7PDePXnHFS--"
      },
      "execution_count": 30,
      "outputs": []
    },
    {
      "cell_type": "code",
      "source": [
        "# Tuple bersifat Imutable\n",
        "biodata_tuple[2] = 42"
      ],
      "metadata": {
        "colab": {
          "base_uri": "https://localhost:8080/",
          "height": 193
        },
        "id": "n2F_RsbRFcev",
        "outputId": "9251e425-d012-4833-fbcc-405bde7986b8"
      },
      "execution_count": 32,
      "outputs": [
        {
          "output_type": "error",
          "ename": "TypeError",
          "evalue": "ignored",
          "traceback": [
            "\u001b[0;31m---------------------------------------------------------------------------\u001b[0m",
            "\u001b[0;31mTypeError\u001b[0m                                 Traceback (most recent call last)",
            "\u001b[0;32m<ipython-input-32-74d5cf6626af>\u001b[0m in \u001b[0;36m<cell line: 2>\u001b[0;34m()\u001b[0m\n\u001b[1;32m      1\u001b[0m \u001b[0;31m# Tuple bersifat Imutable\u001b[0m\u001b[0;34m\u001b[0m\u001b[0;34m\u001b[0m\u001b[0m\n\u001b[0;32m----> 2\u001b[0;31m \u001b[0mbiodata_tuple\u001b[0m\u001b[0;34m[\u001b[0m\u001b[0;36m2\u001b[0m\u001b[0;34m]\u001b[0m \u001b[0;34m=\u001b[0m \u001b[0;36m42\u001b[0m\u001b[0;34m\u001b[0m\u001b[0;34m\u001b[0m\u001b[0m\n\u001b[0m",
            "\u001b[0;31mTypeError\u001b[0m: 'tuple' object does not support item assignment"
          ]
        }
      ]
    },
    {
      "cell_type": "code",
      "source": [
        "# Set\n",
        "biodata_set = {\"Mike\", 165, 60}"
      ],
      "metadata": {
        "id": "MdggXlyAFftT"
      },
      "execution_count": 33,
      "outputs": []
    },
    {
      "cell_type": "code",
      "source": [
        "biodata_set"
      ],
      "metadata": {
        "colab": {
          "base_uri": "https://localhost:8080/"
        },
        "id": "xkvxvrQvGFaW",
        "outputId": "3d4eb8fb-cae2-40e1-b8ac-3b16998fd60d"
      },
      "execution_count": 34,
      "outputs": [
        {
          "output_type": "execute_result",
          "data": {
            "text/plain": [
              "{165, 60, 'Mike'}"
            ]
          },
          "metadata": {},
          "execution_count": 34
        }
      ]
    },
    {
      "cell_type": "code",
      "source": [
        "# Dictionary\n",
        "biodata_dictionary = {\"Nama\" : \"Mike\",\n",
        "                      \"Tinggi\" : 160,\n",
        "                      \"Berat\" : 65}"
      ],
      "metadata": {
        "id": "CmmxHvegGIR9"
      },
      "execution_count": 35,
      "outputs": []
    },
    {
      "cell_type": "code",
      "source": [
        "biodata_dictionary.keys()"
      ],
      "metadata": {
        "colab": {
          "base_uri": "https://localhost:8080/"
        },
        "id": "r5iiuj05GZkj",
        "outputId": "9f5264aa-9cf5-489f-c3dc-d2b76b6b61c2"
      },
      "execution_count": 36,
      "outputs": [
        {
          "output_type": "execute_result",
          "data": {
            "text/plain": [
              "dict_keys(['Nama', 'Tinggi', 'Berat'])"
            ]
          },
          "metadata": {},
          "execution_count": 36
        }
      ]
    },
    {
      "cell_type": "code",
      "source": [
        "biodata_dictionary.values()"
      ],
      "metadata": {
        "colab": {
          "base_uri": "https://localhost:8080/"
        },
        "id": "FBvyh7sDGbph",
        "outputId": "6a2752c2-4a63-4a74-b46e-69056933dcbc"
      },
      "execution_count": 38,
      "outputs": [
        {
          "output_type": "execute_result",
          "data": {
            "text/plain": [
              "dict_values(['Mike', 160, 65])"
            ]
          },
          "metadata": {},
          "execution_count": 38
        }
      ]
    },
    {
      "cell_type": "code",
      "source": [
        "biodata_dictionary[\"Nama\"]"
      ],
      "metadata": {
        "colab": {
          "base_uri": "https://localhost:8080/",
          "height": 35
        },
        "id": "HwKAINJWGelM",
        "outputId": "d47afc21-17ea-448e-9d7b-ff4c610e3625"
      },
      "execution_count": 39,
      "outputs": [
        {
          "output_type": "execute_result",
          "data": {
            "text/plain": [
              "'Mike'"
            ],
            "application/vnd.google.colaboratory.intrinsic+json": {
              "type": "string"
            }
          },
          "metadata": {},
          "execution_count": 39
        }
      ]
    },
    {
      "cell_type": "code",
      "source": [
        "biodata_dictionary[\"Nama\"] = \"Miki\""
      ],
      "metadata": {
        "id": "A9DpeYhUGrrr"
      },
      "execution_count": 40,
      "outputs": []
    },
    {
      "cell_type": "code",
      "source": [
        "biodata_dictionary[\"Nama\"]"
      ],
      "metadata": {
        "colab": {
          "base_uri": "https://localhost:8080/",
          "height": 35
        },
        "id": "QeujLXSMGwe_",
        "outputId": "7af0e5bf-5ae2-4561-9b4e-93b1a12f3bb0"
      },
      "execution_count": 41,
      "outputs": [
        {
          "output_type": "execute_result",
          "data": {
            "text/plain": [
              "'Miki'"
            ],
            "application/vnd.google.colaboratory.intrinsic+json": {
              "type": "string"
            }
          },
          "metadata": {},
          "execution_count": 41
        }
      ]
    },
    {
      "cell_type": "code",
      "source": [
        "biodata_dictionary"
      ],
      "metadata": {
        "colab": {
          "base_uri": "https://localhost:8080/"
        },
        "id": "T8QxFyR1G0Sn",
        "outputId": "0438d6b9-7887-4a97-c442-602c8fb717c0"
      },
      "execution_count": 42,
      "outputs": [
        {
          "output_type": "execute_result",
          "data": {
            "text/plain": [
              "{'Nama': 'Miki', 'Tinggi': 160, 'Berat': 65}"
            ]
          },
          "metadata": {},
          "execution_count": 42
        }
      ]
    },
    {
      "cell_type": "markdown",
      "source": [
        "## 2. Aritmatika dan Logika"
      ],
      "metadata": {
        "id": "P9Lew69EG3Cg"
      }
    },
    {
      "cell_type": "code",
      "source": [
        "# KaBaTaKu\n",
        "print(1990 + 1.5)\n",
        "print(\"Hello\" + \"World\")"
      ],
      "metadata": {
        "colab": {
          "base_uri": "https://localhost:8080/"
        },
        "id": "cz1hcHy3S9Yx",
        "outputId": "d535ca23-555b-40e2-a28c-905f9ae4e083"
      },
      "execution_count": 43,
      "outputs": [
        {
          "output_type": "stream",
          "name": "stdout",
          "text": [
            "1991.5\n",
            "HelloWorld\n"
          ]
        }
      ]
    },
    {
      "cell_type": "code",
      "source": [
        "y = 160 - 75 * 15 + 100\n",
        "print(y)"
      ],
      "metadata": {
        "colab": {
          "base_uri": "https://localhost:8080/"
        },
        "id": "iqsg4Ur3TF6d",
        "outputId": "11a0ac94-fd42-4774-f3d6-40309d4b9e01"
      },
      "execution_count": 44,
      "outputs": [
        {
          "output_type": "stream",
          "name": "stdout",
          "text": [
            "-865\n"
          ]
        }
      ]
    },
    {
      "cell_type": "code",
      "source": [
        "# Pangkat\n",
        "p = 2**3\n",
        "print(p)"
      ],
      "metadata": {
        "colab": {
          "base_uri": "https://localhost:8080/"
        },
        "id": "hK4Q9zYqTLVV",
        "outputId": "8ecd3b04-0a54-42e7-99b1-015b580d9bef"
      },
      "execution_count": 45,
      "outputs": [
        {
          "output_type": "stream",
          "name": "stdout",
          "text": [
            "8\n"
          ]
        }
      ]
    },
    {
      "cell_type": "code",
      "source": [
        "# Modulo\n",
        "print(10 % 3)\n",
        "print(2 % 2)"
      ],
      "metadata": {
        "colab": {
          "base_uri": "https://localhost:8080/"
        },
        "id": "HA3QgJnETPkx",
        "outputId": "2df4e513-451d-4976-96e0-9cd8ae9b7040"
      },
      "execution_count": 46,
      "outputs": [
        {
          "output_type": "stream",
          "name": "stdout",
          "text": [
            "1\n",
            "0\n"
          ]
        }
      ]
    },
    {
      "cell_type": "code",
      "source": [
        "print(10 / 3)\n",
        "\n",
        "# Floor (hasil bagi pembulatan ke bawah)\n",
        "print(10 // 3)"
      ],
      "metadata": {
        "colab": {
          "base_uri": "https://localhost:8080/"
        },
        "id": "aOwBj71bTgK5",
        "outputId": "c98fda2a-1fb3-410f-c02a-1b81697f3be2"
      },
      "execution_count": 49,
      "outputs": [
        {
          "output_type": "stream",
          "name": "stdout",
          "text": [
            "3.3333333333333335\n",
            "3\n"
          ]
        }
      ]
    },
    {
      "cell_type": "code",
      "source": [
        "# IF\n",
        "nilai = 80\n",
        "if nilai >= 75:\n",
        "  print(\"Kamu Lulus!\")"
      ],
      "metadata": {
        "colab": {
          "base_uri": "https://localhost:8080/"
        },
        "id": "zblBj6XvTnLm",
        "outputId": "76bca4f7-885e-4038-e226-7391535517f8"
      },
      "execution_count": 50,
      "outputs": [
        {
          "output_type": "stream",
          "name": "stdout",
          "text": [
            "Kamu Lulus!\n"
          ]
        }
      ]
    },
    {
      "cell_type": "code",
      "source": [
        "# IF ELSE\n",
        "nilai = 74\n",
        "if nilai >= 75:\n",
        "  print(\"Kamu Lulus!\")\n",
        "else:\n",
        "  print(\"Kamu Tidak Lulus!\")"
      ],
      "metadata": {
        "colab": {
          "base_uri": "https://localhost:8080/"
        },
        "id": "Hvkq5_BnT-Da",
        "outputId": "3ff23e19-ade9-4781-b116-c7ca9d12c4e7"
      },
      "execution_count": 51,
      "outputs": [
        {
          "output_type": "stream",
          "name": "stdout",
          "text": [
            "Kamu Tidak Lulus!\n"
          ]
        }
      ]
    },
    {
      "cell_type": "code",
      "source": [
        "# FOR LOOP\n",
        "my_list = [1, 20, 300]\n",
        "for i in my_list:\n",
        "  print(i)"
      ],
      "metadata": {
        "colab": {
          "base_uri": "https://localhost:8080/"
        },
        "id": "ifErt3XkUH20",
        "outputId": "58e94985-3428-4ccf-ba0d-2cd77d8ac095"
      },
      "execution_count": 56,
      "outputs": [
        {
          "output_type": "stream",
          "name": "stdout",
          "text": [
            "1\n",
            "20\n",
            "300\n"
          ]
        }
      ]
    },
    {
      "cell_type": "code",
      "source": [
        "a = 2\n",
        "b = 3\n",
        "un = a\n",
        "for i in range(0, 10):\n",
        "  print(i)\n",
        "  un = un + b\n",
        "print(un)"
      ],
      "metadata": {
        "colab": {
          "base_uri": "https://localhost:8080/"
        },
        "id": "wXwwWhkBUXl0",
        "outputId": "6d714ba2-a470-4b5e-c403-fd7b9a12770c"
      },
      "execution_count": 57,
      "outputs": [
        {
          "output_type": "stream",
          "name": "stdout",
          "text": [
            "0\n",
            "1\n",
            "2\n",
            "3\n",
            "4\n",
            "5\n",
            "6\n",
            "7\n",
            "8\n",
            "9\n",
            "32\n"
          ]
        }
      ]
    },
    {
      "cell_type": "code",
      "source": [
        "# WHILE LOOP\n",
        "cnt = 0\n",
        "while cnt < 6:\n",
        "  cnt += 1\n",
        "  print(cnt)"
      ],
      "metadata": {
        "colab": {
          "base_uri": "https://localhost:8080/"
        },
        "id": "3b_UJARsUuQQ",
        "outputId": "bd5b30d6-5b1e-45d8-8410-ca43c85c528e"
      },
      "execution_count": 58,
      "outputs": [
        {
          "output_type": "stream",
          "name": "stdout",
          "text": [
            "1\n",
            "2\n",
            "3\n",
            "4\n",
            "5\n",
            "6\n"
          ]
        }
      ]
    },
    {
      "cell_type": "code",
      "source": [
        "a = 2\n",
        "b = 3\n",
        "un = a\n",
        "while (un <= 300):\n",
        "  un = un + b\n",
        "print(un)"
      ],
      "metadata": {
        "colab": {
          "base_uri": "https://localhost:8080/"
        },
        "id": "K-t5DHRXU-6-",
        "outputId": "158b97d0-890d-4934-9837-f35be11d3ca2"
      },
      "execution_count": 59,
      "outputs": [
        {
          "output_type": "stream",
          "name": "stdout",
          "text": [
            "302\n"
          ]
        }
      ]
    }
  ]
}